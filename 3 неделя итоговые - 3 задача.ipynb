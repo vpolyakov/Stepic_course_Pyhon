{
 "cells": [
  {
   "cell_type": "code",
   "execution_count": 18,
   "metadata": {
    "collapsed": false
   },
   "outputs": [
    {
     "name": "stdout",
     "output_type": "stream",
     "text": [
      "1\n",
      "a\n",
      "2\n",
      "a sd f\n",
      "a sd g\n",
      "{'f', 'g', 'sd'}\n"
     ]
    }
   ],
   "source": [
    "n = int(input())\n",
    "dictionary = [input().lower() for i in range(n)]\n",
    "l = int(input())\n",
    "article = []\n",
    "for i in range(l):\n",
    "    article += input().lower().split()\n",
    "words = set(i for i in article if i not in dictionary)\n",
    "#print(words)\n",
    "for i in words:\n",
    "    print(i)"
   ]
  }
 ],
 "metadata": {
  "kernelspec": {
   "display_name": "Python [conda root]",
   "language": "python",
   "name": "conda-root-py"
  },
  "language_info": {
   "codemirror_mode": {
    "name": "ipython",
    "version": 3
   },
   "file_extension": ".py",
   "mimetype": "text/x-python",
   "name": "python",
   "nbconvert_exporter": "python",
   "pygments_lexer": "ipython3",
   "version": "3.5.2"
  }
 },
 "nbformat": 4,
 "nbformat_minor": 1
}
