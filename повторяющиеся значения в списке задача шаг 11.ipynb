{
 "cells": [
  {
   "cell_type": "code",
   "execution_count": 37,
   "metadata": {
    "collapsed": false
   },
   "outputs": [
    {
     "name": "stdout",
     "output_type": "stream",
     "text": [
      "4 8 0 3 4 2 0 3\n",
      "дано a: [4, 8, 0, 3, 4, 2, 0, 3]\n",
      "отсортировано a: [0, 0, 2, 3, 3, 4, 4, 8]\n",
      "0 3 4 "
     ]
    }
   ],
   "source": [
    "a = [int(i) for i in input().split()]\n",
    "print('дано a:', a)\n",
    "a.sort()\n",
    "print('отсортировано a:', a)\n",
    "b = []\n",
    "for l in range(0, len(a)-1) :\n",
    "    if a[l] == a[l+1]:\n",
    "        if l == 0 :\n",
    "            b.append(a[l])\n",
    "        else:\n",
    "            if a[l] != a[l-1] :\n",
    "                b.append(a[l])    \n",
    "\n",
    "if len(b) > 0 :\n",
    "    for k in b :\n",
    "        print(k, '', end='')"
   ]
  },
  {
   "cell_type": "code",
   "execution_count": 38,
   "metadata": {
    "collapsed": false
   },
   "outputs": [
    {
     "name": "stdout",
     "output_type": "stream",
     "text": [
      "4 8 0 3 4 2 0 3\n",
      "0 3 4 "
     ]
    }
   ],
   "source": [
    "a = [int(i) for i in input().split()]\n",
    "a.sort()\n",
    "b = []\n",
    "for l in range(0, len(a)-1) :\n",
    "    if a[l] == a[l+1]:\n",
    "        if l == 0 :\n",
    "            b.append(a[l])\n",
    "        else:\n",
    "            if a[l] != a[l-1] :\n",
    "                b.append(a[l])    \n",
    "if len(b) > 0 :\n",
    "    for k in b :\n",
    "        print(k, '', end='')"
   ]
  }
 ],
 "metadata": {
  "kernelspec": {
   "display_name": "Python [conda root]",
   "language": "python",
   "name": "conda-root-py"
  },
  "language_info": {
   "codemirror_mode": {
    "name": "ipython",
    "version": 3
   },
   "file_extension": ".py",
   "mimetype": "text/x-python",
   "name": "python",
   "nbconvert_exporter": "python",
   "pygments_lexer": "ipython3",
   "version": "3.5.2"
  }
 },
 "nbformat": 4,
 "nbformat_minor": 1
}
