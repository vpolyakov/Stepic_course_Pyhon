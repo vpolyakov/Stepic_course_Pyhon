{
 "cells": [
  {
   "cell_type": "code",
   "execution_count": 28,
   "metadata": {
    "collapsed": false
   },
   "outputs": [
    {
     "name": "stdout",
     "output_type": "stream",
     "text": [
      "5\n"
     ]
    }
   ],
   "source": [
    "n = int(input())"
   ]
  },
  {
   "cell_type": "code",
   "execution_count": 31,
   "metadata": {
    "collapsed": false
   },
   "outputs": [
    {
     "name": "stdout",
     "output_type": "stream",
     "text": [
      "b= [[0, 0, 0, 0, 0], [0, 0, 0, 0, 0], [0, 0, 0, 0, 0], [0, 0, 0, 0, 0], [0, 0, 0, 0, 0]]\n"
     ]
    }
   ],
   "source": [
    "b = [[0 for j in range(n)] for i in range(n)]\n",
    "print('b=', b)"
   ]
  },
  {
   "cell_type": "code",
   "execution_count": 32,
   "metadata": {
    "collapsed": false,
    "scrolled": true
   },
   "outputs": [
    {
     "name": "stdout",
     "output_type": "stream",
     "text": [
      "step= 2 i 0 j 1 b 2\n",
      "step= 3 i 0 j 2 b 3\n",
      "step= 4 i 0 j 3 b 4\n",
      "step= 5 i 0 j 4 b 5\n",
      "r-d\n",
      "step= 6 i 1 j 4 b 6\n",
      "step= 7 i 2 j 4 b 7\n",
      "step= 8 i 3 j 4 b 8\n",
      "step= 9 i 4 j 4 b 9\n",
      "d-l\n",
      "step= 10 i 4 j 3 b 10\n",
      "step= 11 i 4 j 2 b 11\n",
      "step= 12 i 4 j 1 b 12\n",
      "step= 13 i 4 j 0 b 13\n",
      "l-u\n",
      "step= 14 i 3 j 0 b 14\n",
      "step= 15 i 2 j 0 b 15\n",
      "step= 16 i 1 j 0 b 16\n",
      "u-r\n",
      "step= 17 i 1 j 1 b 17\n",
      "step= 18 i 1 j 2 b 18\n",
      "step= 19 i 1 j 3 b 19\n",
      "r-d\n",
      "step= 20 i 2 j 3 b 20\n",
      "step= 21 i 3 j 3 b 21\n",
      "d-l\n",
      "step= 22 i 3 j 2 b 22\n",
      "step= 23 i 3 j 1 b 23\n",
      "l-u\n",
      "step= 24 i 2 j 1 b 24\n",
      "u-r\n",
      "step= 25 i 2 j 2 b 25\n",
      "[[1, 2, 3, 4, 5], [16, 17, 18, 19, 6], [15, 24, 25, 20, 7], [14, 23, 22, 21, 8], [13, 12, 11, 10, 9]]\n",
      "1 2 3 4 5\n",
      "16 17 18 19 6\n",
      "15 24 25 20 7\n",
      "14 23 22 21 8\n",
      "13 12 11 10 9\n"
     ]
    }
   ],
   "source": [
    "mov = 'right' # left up dawn\n",
    "i = 0\n",
    "j = 0\n",
    "k = 1\n",
    "step = 1\n",
    "b[i][j] = k\n",
    "if n == 1 :\n",
    "    mov = 'stop'\n",
    "\n",
    "while mov != 'stop' :    \n",
    "    k += 1\n",
    "    if mov == 'right' and ((j == n-1 or b[i][j+1] != 0) and b[i+1][j] == 0) :\n",
    "        mov = 'dawn'\n",
    "        print('r-d')\n",
    "    elif mov == 'right' and ((j == n-1 or b[i][j+1] != 0) and b[i+1][j] != 0) :\n",
    "        mov = 'stop'\n",
    "\n",
    "    elif mov == 'dawn' and ((i == n-1 or b[i+1][j] != 0) and b[i][j-1] == 0) :\n",
    "        mov = 'left'\n",
    "        print('d-l')\n",
    "    elif mov == 'dawn' and ((i == n-1 or b[i+1][j] != 0) and b[i][j-1] != 0) :\n",
    "        mov = 'stop'\n",
    "\n",
    "    elif mov == 'left' and ((i == 0 or b[i][j-1] != 0) and b[i-1][j] == 0) :\n",
    "        mov = 'up'\n",
    "        print('l-u')\n",
    "    elif mov == 'left' and ((i == 0 or b[i][j-1] != 0) and b[i-1][j] != 0) :\n",
    "        mov = 'stop'\n",
    "\n",
    "    elif mov == 'up' and b[i-1][j] != 0 and b[i][j+1] == 0 :\n",
    "        mov = 'right'\n",
    "        print('u-r')\n",
    "    elif mov == 'up' and b[i-1][j] != 0 and b[i][j+1] != 0 :\n",
    "        mov = 'stop'\n",
    "        \n",
    "    if mov == 'right' :\n",
    "        b[i][j+1] = k\n",
    "        step += 1\n",
    "        j += 1\n",
    "        print('step=', step, 'i', i, 'j', j, 'b', k)\n",
    "    elif mov == 'dawn' :\n",
    "        b[i+1][j] = k\n",
    "        step += 1\n",
    "        i += 1\n",
    "        print('step=', step, 'i', i, 'j', j, 'b', k)\n",
    "    elif mov == 'left' :\n",
    "        b[i][j-1] = k\n",
    "        step += 1\n",
    "        j -= 1\n",
    "        print('step=', step, 'i', i, 'j', j, 'b', k)\n",
    "    elif mov == 'up' :\n",
    "        b[i-1][j] = k\n",
    "        step += 1\n",
    "        i -= 1\n",
    "        print('step=', step, 'i', i, 'j', j, 'b', k)\n",
    "print(b)\n",
    "#вывод на печать искомой матрицы\n",
    "for i in range(len(b)) :\n",
    "    for j in range(len(b[i])) :\n",
    "        if j == len(b[i])-1 :\n",
    "            print(b[i][j])\n",
    "        else:\n",
    "            print(b[i][j], '', end='')"
   ]
  },
  {
   "cell_type": "code",
   "execution_count": 40,
   "metadata": {
    "collapsed": false
   },
   "outputs": [
    {
     "name": "stdout",
     "output_type": "stream",
     "text": [
      "5\n",
      "1 2 3 4 5\n",
      "16 17 18 19 6\n",
      "15 24 25 20 7\n",
      "14 23 22 21 8\n",
      "13 12 11 10 9\n"
     ]
    }
   ],
   "source": [
    "# ввод n \n",
    "n = int(input())\n",
    "\n",
    "# заполнение нулями матрицы требуемой размерности nxn\n",
    "b = [[0 for j in range(n)] for i in range(n)]\n",
    "\n",
    "mov = 'right'\n",
    "i = 0\n",
    "j = 0\n",
    "k = 1\n",
    "b[i][j] = k\n",
    "if n == 1 :\n",
    "    mov = 'stop'\n",
    "\n",
    "while mov != 'stop' :    \n",
    "    k += 1\n",
    "\n",
    "# проверка не пора ли повернуть\n",
    "    if mov == 'right' and ((j == n-1 or b[i][j+1] != 0) and b[i+1][j] == 0) :\n",
    "        mov = 'dawn'\n",
    "    elif mov == 'right' and ((j == n-1 or b[i][j+1] != 0) and b[i+1][j] != 0) :\n",
    "        mov = 'stop'\n",
    "\n",
    "    elif mov == 'dawn' and ((i == n-1 or b[i+1][j] != 0) and b[i][j-1] == 0) :\n",
    "        mov = 'left'\n",
    "    elif mov == 'dawn' and ((i == n-1 or b[i+1][j] != 0) and b[i][j-1] != 0) :\n",
    "        mov = 'stop'\n",
    "\n",
    "    elif mov == 'left' and ((i == 0 or b[i][j-1] != 0) and b[i-1][j] == 0) :\n",
    "        mov = 'up'\n",
    "    elif mov == 'left' and ((i == 0 or b[i][j-1] != 0) and b[i-1][j] != 0) :\n",
    "        mov = 'stop'\n",
    "\n",
    "    elif mov == 'up' and b[i-1][j] != 0 and b[i][j+1] == 0 :\n",
    "        mov = 'right'\n",
    "    elif mov == 'up' and b[i-1][j] != 0 and b[i][j+1] != 0 :\n",
    "        mov = 'stop'\n",
    "\n",
    "# Заполнение значениями\n",
    "    if mov == 'right' :\n",
    "        b[i][j+1] = k\n",
    "        j += 1\n",
    "    elif mov == 'dawn' :\n",
    "        b[i+1][j] = k\n",
    "        i += 1\n",
    "    elif mov == 'left' :\n",
    "        b[i][j-1] = k\n",
    "        j -= 1\n",
    "    elif mov == 'up' :\n",
    "        b[i-1][j] = k\n",
    "        i -= 1\n",
    "\n",
    "# вывод на печать искомой матрицы\n",
    "for i in range(len(b)) :\n",
    "    for j in range(len(b[i])) :\n",
    "        if j == len(b[i])-1 :\n",
    "            print(b[i][j])\n",
    "        else:\n",
    "            print(b[i][j], '', end='')"
   ]
  }
 ],
 "metadata": {
  "kernelspec": {
   "display_name": "Python [conda root]",
   "language": "python",
   "name": "conda-root-py"
  },
  "language_info": {
   "codemirror_mode": {
    "name": "ipython",
    "version": 3
   },
   "file_extension": ".py",
   "mimetype": "text/x-python",
   "name": "python",
   "nbconvert_exporter": "python",
   "pygments_lexer": "ipython3",
   "version": "3.5.2"
  }
 },
 "nbformat": 4,
 "nbformat_minor": 1
}
