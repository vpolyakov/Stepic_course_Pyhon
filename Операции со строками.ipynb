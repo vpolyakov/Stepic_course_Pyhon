{
 "cells": [
  {
   "cell_type": "code",
   "execution_count": 6,
   "metadata": {
    "collapsed": false
   },
   "outputs": [
    {
     "name": "stdout",
     "output_type": "stream",
     "text": [
      "acggtgttat\n",
      "40.0\n"
     ]
    }
   ],
   "source": [
    "genome = input().lower()\n",
    "g = genome.count('g')\n",
    "c = genome.count('c')\n",
    "gc_percent = (g + c)/len(genome) * 100\n",
    "print(gc_percent)"
   ]
  },
  {
   "cell_type": "code",
   "execution_count": 31,
   "metadata": {
    "collapsed": false
   },
   "outputs": [
    {
     "name": "stdout",
     "output_type": "stream",
     "text": [
      "aabbcc\n",
      "a2b2c2\n"
     ]
    }
   ],
   "source": [
    "gen = input()\n",
    "zgen = ''\n",
    "if len(gen) == 1 :\n",
    "    zgen = gen + '1'\n",
    "else :\n",
    "    n = 1\n",
    "    for i in range(0, len(gen)) :\n",
    "        if i == len(gen)-1 :\n",
    "            zgen = zgen + gen[i] + str(n)\n",
    "        elif gen[i] == gen[i+1] :\n",
    "            n += 1\n",
    "        elif gen[i] != gen[i+1]:\n",
    "            zgen = zgen + gen[i] + str(n)\n",
    "            n = 1\n",
    "print(zgen)"
   ]
  }
 ],
 "metadata": {
  "anaconda-cloud": {},
  "kernelspec": {
   "display_name": "Python [conda root]",
   "language": "python",
   "name": "conda-root-py"
  },
  "language_info": {
   "codemirror_mode": {
    "name": "ipython",
    "version": 3
   },
   "file_extension": ".py",
   "mimetype": "text/x-python",
   "name": "python",
   "nbconvert_exporter": "python",
   "pygments_lexer": "ipython3",
   "version": "3.5.2"
  }
 },
 "nbformat": 4,
 "nbformat_minor": 1
}
