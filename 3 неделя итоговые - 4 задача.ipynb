{
 "cells": [
  {
   "cell_type": "code",
   "execution_count": 2,
   "metadata": {
    "collapsed": false
   },
   "outputs": [
    {
     "name": "stdout",
     "output_type": "stream",
     "text": [
      "4\n",
      "север 10\n",
      "запад 20\n",
      "юг 30\n",
      "восток 40\n",
      "20 -20\n"
     ]
    }
   ],
   "source": [
    "n = int(input())\n",
    "x = 0\n",
    "y = 0\n",
    "for i in range(n):\n",
    "    mov = []\n",
    "    mov = input().split()\n",
    "    if mov[0] == 'север' :\n",
    "        y += int(mov[1])\n",
    "    elif mov[0] == 'юг' :\n",
    "        y += -int(mov[1])\n",
    "    elif mov[0] == 'восток' :\n",
    "        x += int(mov[1])\n",
    "    elif mov[0] == 'запад' :\n",
    "        x += -int(mov[1])\n",
    "print(x, y)"
   ]
  }
 ],
 "metadata": {
  "kernelspec": {
   "display_name": "Python [conda root]",
   "language": "python",
   "name": "conda-root-py"
  },
  "language_info": {
   "codemirror_mode": {
    "name": "ipython",
    "version": 3
   },
   "file_extension": ".py",
   "mimetype": "text/x-python",
   "name": "python",
   "nbconvert_exporter": "python",
   "pygments_lexer": "ipython3",
   "version": "3.5.2"
  }
 },
 "nbformat": 4,
 "nbformat_minor": 1
}
