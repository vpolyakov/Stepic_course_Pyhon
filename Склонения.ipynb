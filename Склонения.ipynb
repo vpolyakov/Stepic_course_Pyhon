{
 "cells": [
  {
   "cell_type": "code",
   "execution_count": 209,
   "metadata": {
    "collapsed": false
   },
   "outputs": [
    {
     "name": "stdout",
     "output_type": "stream",
     "text": [
      "121\n",
      "121 программист\n"
     ]
    }
   ],
   "source": [
    "n0 = int(input())\n",
    "n, ok = n0, ''\n",
    "if n >= 100 :\n",
    "    n = n % 100\n",
    "    if 15 <= n:\n",
    "        n = n % 10\n",
    "elif 15 <= n < 100 :\n",
    "    n = n % 10\n",
    "if 2 <= n <= 4:\n",
    "    ok = 'а'\n",
    "elif 5 <= n <= 14 or n == 0:\n",
    "    ok = 'ов'\n",
    "print(n0, 'программист' + ok)"
   ]
  }
 ],
 "metadata": {
  "anaconda-cloud": {},
  "kernelspec": {
   "display_name": "Python [conda root]",
   "language": "python",
   "name": "conda-root-py"
  },
  "language_info": {
   "codemirror_mode": {
    "name": "ipython",
    "version": 3
   },
   "file_extension": ".py",
   "mimetype": "text/x-python",
   "name": "python",
   "nbconvert_exporter": "python",
   "pygments_lexer": "ipython3",
   "version": "3.5.2"
  }
 },
 "nbformat": 4,
 "nbformat_minor": 1
}
