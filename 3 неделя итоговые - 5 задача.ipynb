{
 "cells": [
  {
   "cell_type": "code",
   "execution_count": 12,
   "metadata": {
    "collapsed": false
   },
   "outputs": [],
   "source": [
    "with open('dataset_3380_5.txt') as data:\n",
    "    lines = [line.strip().split('\\t') for line in data.readlines()]"
   ]
  },
  {
   "cell_type": "code",
   "execution_count": 13,
   "metadata": {
    "collapsed": false
   },
   "outputs": [
    {
     "data": {
      "text/plain": [
       "[['10', 'Sykes', '173'],\n",
       " ['4', 'Fitzgerald', '145'],\n",
       " ['10', 'Youmans', '171'],\n",
       " ['8', 'Archibald', '170']]"
      ]
     },
     "execution_count": 13,
     "metadata": {},
     "output_type": "execute_result"
    }
   ],
   "source": [
    "lines"
   ]
  },
  {
   "cell_type": "code",
   "execution_count": 16,
   "metadata": {
    "collapsed": false
   },
   "outputs": [
    {
     "name": "stdout",
     "output_type": "stream",
     "text": [
      "{8: [1, 170], 10: [2, 344], 4: [1, 145]}\n"
     ]
    }
   ],
   "source": [
    "rost = {}\n",
    "for line in lines:\n",
    "    if int(line[0]) not in rost:\n",
    "        rost[int(line[0])] = [1, int(line[2])]\n",
    "    elif int(line[0]) in rost:\n",
    "        rost[int(line[0])][0] += 1\n",
    "        rost[int(line[0])][1] += int(line[2])\n",
    "print(rost)"
   ]
  },
  {
   "cell_type": "code",
   "execution_count": 22,
   "metadata": {
    "collapsed": false
   },
   "outputs": [
    {
     "name": "stdout",
     "output_type": "stream",
     "text": [
      "1 -\n",
      "2 -\n",
      "3 -\n",
      "4 145.0\n",
      "5 -\n",
      "6 -\n",
      "7 -\n",
      "8 170.0\n",
      "9 -\n",
      "10 172.0\n",
      "11 -\n"
     ]
    }
   ],
   "source": [
    "for i in range(1,12):\n",
    "    if i not in rost:\n",
    "        print(i, '-')\n",
    "    elif i in rost:\n",
    "        print(i, rost[i][1]/rost[i][0])"
   ]
  },
  {
   "cell_type": "code",
   "execution_count": 24,
   "metadata": {
    "collapsed": false
   },
   "outputs": [
    {
     "name": "stdout",
     "output_type": "stream",
     "text": [
      "1 125.85714285714286\n",
      "2 129.3\n",
      "3 134.6\n",
      "4 141.85714285714286\n",
      "5 143.4\n",
      "6 154.2\n",
      "7 158.25\n",
      "8 163.5\n",
      "9 170.57142857142858\n",
      "10 168.66666666666666\n",
      "11 175.0\n"
     ]
    }
   ],
   "source": [
    "with open('dataset_3380_5.txt') as data:\n",
    "    lines = [line.strip().split('\\t') for line in data.readlines()]\n",
    "rost = {}\n",
    "for line in lines:\n",
    "    if int(line[0]) not in rost:\n",
    "        rost[int(line[0])] = [1, int(line[2])]\n",
    "    elif int(line[0]) in rost:\n",
    "        rost[int(line[0])][0] += 1\n",
    "        rost[int(line[0])][1] += int(line[2])\n",
    "for i in range(1,12):\n",
    "    if i not in rost:\n",
    "        print(i, '-')\n",
    "    elif i in rost:\n",
    "        print(i, rost[i][1]/rost[i][0])"
   ]
  }
 ],
 "metadata": {
  "kernelspec": {
   "display_name": "Python [conda root]",
   "language": "python",
   "name": "conda-root-py"
  },
  "language_info": {
   "codemirror_mode": {
    "name": "ipython",
    "version": 3
   },
   "file_extension": ".py",
   "mimetype": "text/x-python",
   "name": "python",
   "nbconvert_exporter": "python",
   "pygments_lexer": "ipython3",
   "version": "3.5.2"
  }
 },
 "nbformat": 4,
 "nbformat_minor": 1
}
