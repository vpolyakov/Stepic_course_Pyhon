{
 "cells": [
  {
   "cell_type": "code",
   "execution_count": 12,
   "metadata": {
    "collapsed": false
   },
   "outputs": [
    {
     "name": "stdout",
     "output_type": "stream",
     "text": [
      "1 3 5 6 10\n",
      "13 6 9 15 7 "
     ]
    }
   ],
   "source": [
    "a = [int(l) for l in input().split()]\n",
    "b = []\n",
    "if len(a) != 1 :\n",
    "    for i in range(0, len(a)) :\n",
    "        if i != len(a)-1 :\n",
    "            s = a[i-1] + a[i+1]\n",
    "            b.append(s)\n",
    "        else:\n",
    "            s = a[i-1] + a[0]\n",
    "            b.append(s)\n",
    "#    print(b)\n",
    "    if len(b) > 0 :\n",
    "        for k in b :\n",
    "            print(k, '', end='')\n",
    "\n",
    "else:\n",
    "    print(a[0])\n"
   ]
  },
  {
   "cell_type": "code",
   "execution_count": null,
   "metadata": {
    "collapsed": true
   },
   "outputs": [],
   "source": []
  }
 ],
 "metadata": {
  "kernelspec": {
   "display_name": "Python [conda root]",
   "language": "python",
   "name": "conda-root-py"
  },
  "language_info": {
   "codemirror_mode": {
    "name": "ipython",
    "version": 3
   },
   "file_extension": ".py",
   "mimetype": "text/x-python",
   "name": "python",
   "nbconvert_exporter": "python",
   "pygments_lexer": "ipython3",
   "version": "3.5.2"
  }
 },
 "nbformat": 4,
 "nbformat_minor": 1
}
