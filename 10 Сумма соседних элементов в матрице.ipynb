{
 "cells": [
  {
   "cell_type": "code",
   "execution_count": 61,
   "metadata": {
    "collapsed": false
   },
   "outputs": [
    {
     "name": "stdout",
     "output_type": "stream",
     "text": [
      "9 5 3\n",
      "0 7 -1\n",
      "-5 2 9\n",
      "end\n",
      "a= [[9, 5, 3], [0, 7, -1], [-5, 2, 9]]\n",
      "b= [[0, 0, 0], [0, 0, 0], [0, 0, 0]]\n"
     ]
    }
   ],
   "source": [
    "a = []\n",
    "inputdata = ''\n",
    "while inputdata != 'end' :\n",
    "    inputdata = input()\n",
    "    if inputdata == 'end' :\n",
    "        break\n",
    "    else:        \n",
    "        a += [[int(l) for l in inputdata.split()]]\n",
    "print('a=', a)\n",
    "b = [[0 for j in range(len(a[0]))] for i in range(len(a))]\n",
    "print('b=', b)"
   ]
  },
  {
   "cell_type": "code",
   "execution_count": 53,
   "metadata": {
    "collapsed": false
   },
   "outputs": [
    {
     "name": "stdout",
     "output_type": "stream",
     "text": [
      "5\n",
      "a[i-1][j] 7\n"
     ]
    },
    {
     "ename": "IndexError",
     "evalue": "list index out of range",
     "output_type": "error",
     "traceback": [
      "\u001b[0;31m---------------------------------------------------------------------------\u001b[0m",
      "\u001b[0;31mIndexError\u001b[0m                                Traceback (most recent call last)",
      "\u001b[0;32m<ipython-input-53-c78bb4c2f6f3>\u001b[0m in \u001b[0;36m<module>\u001b[0;34m()\u001b[0m\n\u001b[1;32m      1\u001b[0m \u001b[0mprint\u001b[0m\u001b[1;33m(\u001b[0m\u001b[0ma\u001b[0m\u001b[1;33m[\u001b[0m\u001b[1;36m1\u001b[0m\u001b[1;33m]\u001b[0m\u001b[1;33m[\u001b[0m\u001b[1;36m0\u001b[0m\u001b[1;33m]\u001b[0m\u001b[1;33m)\u001b[0m\u001b[1;33m\u001b[0m\u001b[0m\n\u001b[1;32m      2\u001b[0m \u001b[0mprint\u001b[0m\u001b[1;33m(\u001b[0m\u001b[1;34m'a[i-1][j]'\u001b[0m\u001b[1;33m,\u001b[0m \u001b[0ma\u001b[0m\u001b[1;33m[\u001b[0m\u001b[0mi\u001b[0m\u001b[1;33m-\u001b[0m\u001b[1;36m1\u001b[0m\u001b[1;33m]\u001b[0m\u001b[1;33m[\u001b[0m\u001b[0mj\u001b[0m\u001b[1;33m]\u001b[0m\u001b[1;33m)\u001b[0m\u001b[1;33m\u001b[0m\u001b[0m\n\u001b[0;32m----> 3\u001b[0;31m \u001b[0mprint\u001b[0m\u001b[1;33m(\u001b[0m\u001b[1;34m'a[i+1][j]'\u001b[0m\u001b[1;33m,\u001b[0m \u001b[0ma\u001b[0m\u001b[1;33m[\u001b[0m\u001b[0mi\u001b[0m\u001b[1;33m+\u001b[0m\u001b[1;36m1\u001b[0m\u001b[1;33m]\u001b[0m\u001b[1;33m[\u001b[0m\u001b[0mj\u001b[0m\u001b[1;33m]\u001b[0m\u001b[1;33m)\u001b[0m\u001b[1;33m\u001b[0m\u001b[0m\n\u001b[0m\u001b[1;32m      4\u001b[0m \u001b[0mprint\u001b[0m\u001b[1;33m(\u001b[0m\u001b[1;34m'a[i][j-1]'\u001b[0m\u001b[1;33m,\u001b[0m \u001b[0ma\u001b[0m\u001b[1;33m[\u001b[0m\u001b[0mi\u001b[0m\u001b[1;33m]\u001b[0m\u001b[1;33m[\u001b[0m\u001b[0mj\u001b[0m\u001b[1;33m-\u001b[0m\u001b[1;36m1\u001b[0m\u001b[1;33m]\u001b[0m\u001b[1;33m)\u001b[0m\u001b[1;33m\u001b[0m\u001b[0m\n\u001b[1;32m      5\u001b[0m \u001b[0mprint\u001b[0m\u001b[1;33m(\u001b[0m\u001b[1;34m'a[i][j+1]'\u001b[0m\u001b[1;33m,\u001b[0m \u001b[0ma\u001b[0m\u001b[1;33m[\u001b[0m\u001b[0mi\u001b[0m\u001b[1;33m]\u001b[0m\u001b[1;33m[\u001b[0m\u001b[0mj\u001b[0m\u001b[1;33m+\u001b[0m\u001b[1;36m1\u001b[0m\u001b[1;33m]\u001b[0m\u001b[1;33m)\u001b[0m\u001b[1;33m\u001b[0m\u001b[0m\n",
      "\u001b[0;31mIndexError\u001b[0m: list index out of range"
     ]
    }
   ],
   "source": [
    "print(a[1][0])\n",
    "print('a[i-1][j]', a[i-1][j])\n",
    "print('a[i+1][j]', a[i+1][j])\n",
    "print('a[i][j-1]', a[i][j-1])\n",
    "print('a[i][j+1]', a[i][j+1])"
   ]
  },
  {
   "cell_type": "code",
   "execution_count": 33,
   "metadata": {
    "collapsed": false
   },
   "outputs": [
    {
     "name": "stdout",
     "output_type": "stream",
     "text": [
      "3 4\n"
     ]
    }
   ],
   "source": [
    "print(len(a), len(a[0]))"
   ]
  },
  {
   "cell_type": "code",
   "execution_count": 65,
   "metadata": {
    "collapsed": false
   },
   "outputs": [
    {
     "name": "stdout",
     "output_type": "stream",
     "text": [
      "b 0 0 = 3\n",
      "b 0 1 = 21\n",
      "b 0 2 = 22\n",
      "b 1 0 = 10\n",
      "b 1 1 = 6\n",
      "b 1 2 = 19\n",
      "b 2 0 = 20\n",
      "b 2 1 = 16\n",
      "b 2 2 = -1\n",
      "3 21 22\n",
      "10 6 19\n",
      "20 16 -1\n"
     ]
    }
   ],
   "source": [
    "for i in range(len(a)) :\n",
    "    for j in range(0, len(a[i])) :\n",
    "        #print('i:',i, 'j:',j)\n",
    "        if i == len(a)-1 and j == len(a[0])-1 :\n",
    "            b[i][j] = a[i-1][j] + a[0][j] + a[i][j-1] + a[i][0]\n",
    "        elif i == len(a)-1 :\n",
    "            #print('len(a)', len(a))\n",
    "            b[i][j] = a[i-1][j] + a[0][j] + a[i][j-1] + a[i][j+1]\n",
    "        elif j == len(a[0])-1 :\n",
    "            b[i][j] = a[i-1][j] + a[i+1][j] + a[i][j-1] + a[i][0]\n",
    "        else :            \n",
    "            b[i][j] = a[i-1][j] + a[i+1][j] + a[i][j-1] + a[i][j+1]\n",
    "        print('b', i, j, '=', b[i][j])\n",
    "for i in range(len(b)) :\n",
    "    for j in range(len(b[i])) :\n",
    "        if j == len(b[i])-1 :\n",
    "            print(b[i][j])\n",
    "        else:\n",
    "            print(b[i][j], '', end='')"
   ]
  },
  {
   "cell_type": "code",
   "execution_count": 6,
   "metadata": {
    "collapsed": false
   },
   "outputs": [
    {
     "name": "stdout",
     "output_type": "stream",
     "text": [
      "[[0, 0, 0], [0, 0, 0], [0, 0, 0]]\n",
      "[[0, 0, 0], [0, 0, 0], [0, 0, 0]]\n"
     ]
    }
   ],
   "source": [
    "n = 3\n",
    "a = [[0]*n for k in range(n)]\n",
    "b = [[0 for j in range(n)] for i in range(n)]\n",
    "print(a)\n",
    "print(b)"
   ]
  },
  {
   "cell_type": "code",
   "execution_count": 7,
   "metadata": {
    "collapsed": false
   },
   "outputs": [
    {
     "name": "stdout",
     "output_type": "stream",
     "text": [
      "[[5, 0, 0], [0, 0, 0], [0, 0, 0]]\n",
      "[[6, 0, 0], [0, 0, 0], [0, 0, 0]]\n"
     ]
    }
   ],
   "source": [
    "a[0][0] = 5\n",
    "b[0][0] = 6\n",
    "print(a)\n",
    "print(b)"
   ]
  },
  {
   "cell_type": "code",
   "execution_count": 71,
   "metadata": {
    "collapsed": false
   },
   "outputs": [
    {
     "name": "stdout",
     "output_type": "stream",
     "text": [
      "9 5 3\n",
      "0 7 -1\n",
      "-5 2 9\n",
      "end\n",
      "3 21 22\n",
      "10 6 19\n",
      "20 16 -1\n"
     ]
    }
   ],
   "source": [
    "###Окончательное решение задачи\n",
    "a = [] #ввод данных\n",
    "inputdata = ''\n",
    "while inputdata != 'end' :\n",
    "    inputdata = input()\n",
    "    if inputdata == 'end' :\n",
    "        break\n",
    "    else:        \n",
    "        a += [[int(l) for l in inputdata.split()]]\n",
    "\n",
    "#создание нулевой матрицы по размерности равной введенной в условиях\n",
    "b = [[0 for j in range(len(a[0]))] for i in range(len(a))]\n",
    "\n",
    "#переприсвоение элементов искомой матрицы в соотвествие с условиями формирования элемента\n",
    "for i in range(len(a)) :\n",
    "    for j in range(0, len(a[i])) :\n",
    "        if i == len(a)-1 and j == len(a[0])-1 :\n",
    "            b[i][j] = a[i-1][j] + a[0][j] + a[i][j-1] + a[i][0]\n",
    "        elif i == len(a)-1 :\n",
    "            b[i][j] = a[i-1][j] + a[0][j] + a[i][j-1] + a[i][j+1]\n",
    "        elif j == len(a[0])-1 :\n",
    "            b[i][j] = a[i-1][j] + a[i+1][j] + a[i][j-1] + a[i][0]\n",
    "        else :            \n",
    "            b[i][j] = a[i-1][j] + a[i+1][j] + a[i][j-1] + a[i][j+1]        \n",
    "\n",
    "#вывод на печать искомой матрицы\n",
    "for i in range(len(b)) :\n",
    "    for j in range(len(b[i])) :\n",
    "        if j == len(b[i])-1 :\n",
    "            print(b[i][j])\n",
    "        else:\n",
    "            print(b[i][j], '', end='')"
   ]
  }
 ],
 "metadata": {
  "kernelspec": {
   "display_name": "Python [conda root]",
   "language": "python",
   "name": "conda-root-py"
  },
  "language_info": {
   "codemirror_mode": {
    "name": "ipython",
    "version": 3
   },
   "file_extension": ".py",
   "mimetype": "text/x-python",
   "name": "python",
   "nbconvert_exporter": "python",
   "pygments_lexer": "ipython3",
   "version": "3.5.2"
  }
 },
 "nbformat": 4,
 "nbformat_minor": 1
}
