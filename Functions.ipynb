{
 "cells": [
  {
   "cell_type": "code",
   "execution_count": 2,
   "metadata": {},
   "outputs": [
    {
     "name": "stdout",
     "output_type": "stream",
     "text": [
      "f(10)= 105\n",
      "f(f(10))= 1055\n",
      "f(f(f(10)))= 10555\n"
     ]
    }
   ],
   "source": [
    "def f(n) :\n",
    "    return n * 10 + 5\n",
    "\n",
    "print('f(10)=', f(10))\n",
    "print('f(f(10))=', f(f(10)))\n",
    "print('f(f(f(10)))=', f(f(f(10))))\n"
   ]
  },
  {
   "cell_type": "code",
   "execution_count": 5,
   "metadata": {},
   "outputs": [
    {
     "name": "stdout",
     "output_type": "stream",
     "text": [
      "7.25\n",
      "-5.25\n",
      "-0.5\n"
     ]
    }
   ],
   "source": [
    "def f(x):\n",
    "    if x <= -2 :\n",
    "        return 1 - (x + 2) ** 2\n",
    "    elif -2 < x <= 2 :\n",
    "        return -x/2\n",
    "    elif 2 < x :\n",
    "        return (x - 2) ** 2 + 1\n",
    "\n",
    "print(f(4.5))\n",
    "print(f(-4.5))\n",
    "print(f(1))"
   ]
  },
  {
   "cell_type": "code",
   "execution_count": 36,
   "metadata": {},
   "outputs": [
    {
     "name": "stdout",
     "output_type": "stream",
     "text": [
      "d\n",
      "['d', 2, 3, 4, 5, 6]\n",
      "1\n",
      "['d', 1, 3, 4, 5, 6]\n",
      "d\n",
      "['d', 1, 'd', 4, 5, 6]\n",
      "2\n",
      "['d', 1, 'd', 2, 5, 6]\n",
      "d\n",
      "['d', 1, 'd', 2, 'd', 6]\n",
      "3\n",
      "['d', 1, 'd', 2, 'd', 3]\n",
      "[1, 2, 3]\n"
     ]
    }
   ],
   "source": [
    "def modify_list(l):\n",
    "    for i in range(len(l)):\n",
    "        if l[i] % 2 == 0 :\n",
    "            l[i] = l[i] // 2\n",
    "        elif l[i] % 2 != 0 :\n",
    "            l[i] = 'd'\n",
    "        print(l[i])\n",
    "        print(l)\n",
    "        \n",
    "    while 'd' in l:\n",
    "        l.remove('d')\n",
    "    \n",
    "lst = [1, 2, 3, 4, 5, 6]\n",
    "modify_list(lst)\n",
    "print(lst)"
   ]
  },
  {
   "cell_type": "code",
   "execution_count": 37,
   "metadata": {},
   "outputs": [
    {
     "name": "stdout",
     "output_type": "stream",
     "text": [
      "5\n",
      "[5, 5, 8, 3]\n",
      "d\n",
      "[5, 'd', 8, 3]\n",
      "4\n",
      "[5, 'd', 4, 3]\n",
      "d\n",
      "[5, 'd', 4, 'd']\n",
      "[5, 4]\n"
     ]
    }
   ],
   "source": [
    "lst = [10, 5, 8, 3]\n",
    "modify_list(lst)\n",
    "print(lst)"
   ]
  },
  {
   "cell_type": "code",
   "execution_count": 33,
   "metadata": {},
   "outputs": [
    {
     "name": "stdout",
     "output_type": "stream",
     "text": [
      "['d', 2, 3, 4, 5, 6]\n",
      "['d', 1, 3, 4, 5, 6]\n",
      "['d', 1, 'd', 4, 5, 6]\n",
      "['d', 1, 'd', 2, 5, 6]\n",
      "['d', 1, 'd', 2, 'd', 6]\n",
      "['d', 1, 'd', 2, 'd', 3]\n",
      "['d', 1, 'd', 2, 'd', 3]\n"
     ]
    }
   ],
   "source": [
    "def modify_list(l):\n",
    "    for i in l:\n",
    "        if i % 2 != 0 :\n",
    "            l[l.index(i)] = 'd'\n",
    "        elif i % 2 == 0 :\n",
    "            l[l.index(i)] = l[l.index(i)] // 2\n",
    "        print(l)\n",
    "        \n",
    "lst = [1, 2, 3, 4, 5, 6]\n",
    "modify_list(lst)\n",
    "print(lst)"
   ]
  },
  {
   "cell_type": "code",
   "execution_count": 35,
   "metadata": {},
   "outputs": [
    {
     "name": "stdout",
     "output_type": "stream",
     "text": [
      "[1, 2, 3]\n"
     ]
    }
   ],
   "source": [
    "def modify_list(l):\n",
    "    for i in l:\n",
    "        if i % 2 != 0 :\n",
    "            l.remove(i)\n",
    "    for i in l:\n",
    "        if i % 2 == 0 :\n",
    "            l[l.index(i)] = l[l.index(i)] // 2\n",
    "            \n",
    "lst = [1, 2, 3, 4, 5, 6]\n",
    "modify_list(lst)\n",
    "print(lst)"
   ]
  },
  {
   "cell_type": "code",
   "execution_count": 39,
   "metadata": {},
   "outputs": [
    {
     "name": "stdout",
     "output_type": "stream",
     "text": [
      "[1, 2, 3]\n"
     ]
    }
   ],
   "source": [
    "def modify_list(l):\n",
    "    for i in range(len(l)):\n",
    "        if l[i] % 2 == 0 :\n",
    "            l[i] = l[i] // 2\n",
    "        elif l[i] % 2 != 0 :\n",
    "            l[i] = 'd'\n",
    "    while 'd' in l:\n",
    "        l.remove('d')\n",
    "    \n",
    "lst = [1, 2, 3, 4, 5, 6]\n",
    "modify_list(lst)\n",
    "print(lst)"
   ]
  },
  {
   "cell_type": "code",
   "execution_count": null,
   "metadata": {
    "collapsed": true
   },
   "outputs": [],
   "source": []
  }
 ],
 "metadata": {
  "kernelspec": {
   "display_name": "Python 3",
   "language": "python",
   "name": "python3"
  },
  "language_info": {
   "codemirror_mode": {
    "name": "ipython",
    "version": 3
   },
   "file_extension": ".py",
   "mimetype": "text/x-python",
   "name": "python",
   "nbconvert_exporter": "python",
   "pygments_lexer": "ipython3",
   "version": "3.5.2"
  }
 },
 "nbformat": 4,
 "nbformat_minor": 2
}
