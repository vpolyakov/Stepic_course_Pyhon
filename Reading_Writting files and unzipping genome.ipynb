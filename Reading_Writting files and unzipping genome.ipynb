{
 "cells": [
  {
   "cell_type": "code",
   "execution_count": 2,
   "metadata": {},
   "outputs": [
    {
     "name": "stdout",
     "output_type": "stream",
     "text": [
      "R4g20t19V11f6w19E4X9j6F3e12f12i19J12b9x2h20e1a12J4q10U11e19B2z14R2k19V14f4\n",
      "\n"
     ]
    }
   ],
   "source": [
    "with open('dataset_3363_2.txt', 'r') as strings:\n",
    "    a = strings.readline()\n",
    "print(a)"
   ]
  },
  {
   "cell_type": "code",
   "execution_count": 3,
   "metadata": {},
   "outputs": [
    {
     "name": "stdout",
     "output_type": "stream",
     "text": [
      "RRRRggggggggggggggggggggtttttttttttttttttttVVVVVVVVVVVffffffwwwwwwwwwwwwwwwwwwwEEEEXXXXXXXXXjjjjjjFFFeeeeeeeeeeeeffffffffffffiiiiiiiiiiiiiiiiiiiJJJJJJJJJJJJbbbbbbbbbxxhhhhhhhhhhhhhhhhhhhheaaaaaaaaaaaaJJJJqqqqqqqqqqUUUUUUUUUUUeeeeeeeeeeeeeeeeeeeBBzzzzzzzzzzzzzzRRkkkkkkkkkkkkkkkkkkkVVVVVVVVVVVVVVffff\n"
     ]
    }
   ],
   "source": [
    "b = ''\n",
    "i = 0\n",
    "sym = ''\n",
    "q = ''\n",
    "while i <= len(a)-2:\n",
    "    if a[i].isalpha():\n",
    "        #print(a[i])\n",
    "        sym = a[i]\n",
    "    elif a[i].isdigit() and not a[i+1].isalpha():\n",
    "        q += a[i]\n",
    "    elif a[i].isdigit() and a[i+1].isalpha():\n",
    "        q += a[i]\n",
    "        num = int(q)\n",
    "        q = ''\n",
    "        b += sym*num\n",
    "        sym = ''\n",
    "    i += 1\n",
    "q += a[-1]\n",
    "num = int(q)\n",
    "b += sym*(num)\n",
    "\n",
    "print(b)"
   ]
  },
  {
   "cell_type": "code",
   "execution_count": 4,
   "metadata": {},
   "outputs": [],
   "source": [
    "with open('answer.txt', 'w') as answer:\n",
    "    answer.write(b)"
   ]
  }
 ],
 "metadata": {
  "kernelspec": {
   "display_name": "Python 3",
   "language": "python",
   "name": "python3"
  },
  "language_info": {
   "codemirror_mode": {
    "name": "ipython",
    "version": 3
   },
   "file_extension": ".py",
   "mimetype": "text/x-python",
   "name": "python",
   "nbconvert_exporter": "python",
   "pygments_lexer": "ipython3",
   "version": "3.5.2"
  }
 },
 "nbformat": 4,
 "nbformat_minor": 2
}
