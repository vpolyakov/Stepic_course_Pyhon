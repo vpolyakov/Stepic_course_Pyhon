{
 "cells": [
  {
   "cell_type": "markdown",
   "metadata": {},
   "source": [
    "### Sets"
   ]
  },
  {
   "cell_type": "code",
   "execution_count": 2,
   "metadata": {
    "collapsed": true
   },
   "outputs": [],
   "source": [
    "b = set()"
   ]
  },
  {
   "cell_type": "code",
   "execution_count": 18,
   "metadata": {},
   "outputs": [],
   "source": [
    "b.add('abc')"
   ]
  },
  {
   "cell_type": "code",
   "execution_count": 19,
   "metadata": {},
   "outputs": [
    {
     "data": {
      "text/plain": [
       "{'abc'}"
      ]
     },
     "execution_count": 19,
     "metadata": {},
     "output_type": "execute_result"
    }
   ],
   "source": [
    "b"
   ]
  },
  {
   "cell_type": "code",
   "execution_count": 20,
   "metadata": {},
   "outputs": [
    {
     "data": {
      "text/plain": [
       "True"
      ]
     },
     "execution_count": 20,
     "metadata": {},
     "output_type": "execute_result"
    }
   ],
   "source": [
    "'abc' in b"
   ]
  },
  {
   "cell_type": "code",
   "execution_count": 21,
   "metadata": {},
   "outputs": [
    {
     "data": {
      "text/plain": [
       "{'abc'}"
      ]
     },
     "execution_count": 21,
     "metadata": {},
     "output_type": "execute_result"
    }
   ],
   "source": [
    "b.discard('dcb')\n",
    "b"
   ]
  },
  {
   "cell_type": "code",
   "execution_count": 12,
   "metadata": {},
   "outputs": [
    {
     "data": {
      "text/plain": [
       "set"
      ]
     },
     "execution_count": 12,
     "metadata": {},
     "output_type": "execute_result"
    }
   ],
   "source": [
    "a = {1,2,3,4,5}\n",
    "type(a)"
   ]
  },
  {
   "cell_type": "code",
   "execution_count": 13,
   "metadata": {},
   "outputs": [
    {
     "data": {
      "text/plain": [
       "dict"
      ]
     },
     "execution_count": 13,
     "metadata": {},
     "output_type": "execute_result"
    }
   ],
   "source": [
    "c = {}\n",
    "type(c)"
   ]
  },
  {
   "cell_type": "code",
   "execution_count": 17,
   "metadata": {},
   "outputs": [
    {
     "data": {
      "text/plain": [
       "set()"
      ]
     },
     "execution_count": 17,
     "metadata": {},
     "output_type": "execute_result"
    }
   ],
   "source": [
    "b.remove('abc')\n",
    "b"
   ]
  },
  {
   "cell_type": "markdown",
   "metadata": {},
   "source": [
    "### Dictionary"
   ]
  },
  {
   "cell_type": "code",
   "execution_count": 73,
   "metadata": {},
   "outputs": [
    {
     "name": "stdout",
     "output_type": "stream",
     "text": [
      "None\n",
      "{2: [-1]}\n"
     ]
    }
   ],
   "source": [
    "def update_dictionary(d, key, value):\n",
    "    if key in d:\n",
    "        d[key].append(value)\n",
    "    elif key not in d and 2*key in d:\n",
    "        d[2*key].append(value)\n",
    "    elif key not in d and 2*key not in d:\n",
    "        d[2*key] = [value]\n",
    "        \n",
    "#d1 = {1 : ['ValueOld'], 2 : []}\n",
    "d1 = {}\n",
    "\n",
    "print(update_dictionary(d1, 1, -1))\n",
    "print(d1)"
   ]
  },
  {
   "cell_type": "code",
   "execution_count": 74,
   "metadata": {},
   "outputs": [
    {
     "name": "stdout",
     "output_type": "stream",
     "text": [
      "{2: [-1, -2]}\n"
     ]
    }
   ],
   "source": [
    "update_dictionary(d1, 2, -2)\n",
    "print(d1)"
   ]
  },
  {
   "cell_type": "code",
   "execution_count": 75,
   "metadata": {},
   "outputs": [
    {
     "name": "stdout",
     "output_type": "stream",
     "text": [
      "{2: [-1, -2, -3]}\n"
     ]
    }
   ],
   "source": [
    "update_dictionary(d1, 1, -3)\n",
    "print(d1)"
   ]
  },
  {
   "cell_type": "code",
   "execution_count": 76,
   "metadata": {},
   "outputs": [
    {
     "name": "stdout",
     "output_type": "stream",
     "text": [
      "None\n",
      "{2: [-1]}\n",
      "{2: [-1, -2]}\n",
      "{2: [-1, -2, -3]}\n"
     ]
    }
   ],
   "source": [
    "def update_dictionary(d, key, value):\n",
    "    if key in d:\n",
    "        d[key] += [value]\n",
    "    elif key not in d and 2*key in d:\n",
    "        d[2*key] += [value]\n",
    "    elif key not in d and 2*key not in d:\n",
    "        d[2*key] = [value]\n",
    "\n",
    "d1 = {}\n",
    "\n",
    "print(update_dictionary(d1, 1, -1))\n",
    "print(d1)\n",
    "update_dictionary(d1, 2, -2)\n",
    "print(d1)\n",
    "update_dictionary(d1, 1, -3)\n",
    "print(d1)"
   ]
  },
  {
   "cell_type": "code",
   "execution_count": 97,
   "metadata": {},
   "outputs": [
    {
     "name": "stdout",
     "output_type": "stream",
     "text": [
      "a aa abC aa ac abc bcd a\n"
     ]
    }
   ],
   "source": [
    "words = input().lower().split()"
   ]
  },
  {
   "cell_type": "code",
   "execution_count": 101,
   "metadata": {},
   "outputs": [
    {
     "name": "stdout",
     "output_type": "stream",
     "text": [
      "abc 2\n",
      "ac 1\n",
      "bcd 1\n",
      "a 2\n",
      "aa 2\n"
     ]
    }
   ],
   "source": [
    "stat = {}\n",
    "for i in words:\n",
    "    if i not in stat:\n",
    "        stat[i] = 1\n",
    "    elif i in stat:\n",
    "        stat[i] += 1\n",
    "for i in stat:\n",
    "    print(i, stat[i])"
   ]
  },
  {
   "cell_type": "code",
   "execution_count": 102,
   "metadata": {},
   "outputs": [
    {
     "name": "stdout",
     "output_type": "stream",
     "text": [
      "a aa abC aa ac abc bcd a\n",
      "abc 2\n",
      "ac 1\n",
      "bcd 1\n",
      "a 2\n",
      "aa 2\n"
     ]
    }
   ],
   "source": [
    "words = input().lower().split()\n",
    "stat = {}\n",
    "for i in words:\n",
    "    if i not in stat:\n",
    "        stat[i] = 1\n",
    "    elif i in stat:\n",
    "        stat[i] += 1\n",
    "for i in stat:\n",
    "    print(i, stat[i])"
   ]
  },
  {
   "cell_type": "code",
   "execution_count": 127,
   "metadata": {},
   "outputs": [
    {
     "name": "stdout",
     "output_type": "stream",
     "text": [
      "1\n",
      "5\n",
      "9765625\n"
     ]
    }
   ],
   "source": [
    "def f(x):\n",
    "    return x**10\n",
    "ans ={}\n",
    "n = int(input())\n",
    "for i in range(n):\n",
    "    a = int(input())\n",
    "    if a in ans:\n",
    "        print(ans[a])\n",
    "    elif a not in ans:\n",
    "        ans[a] = f(a)\n",
    "        print(ans[a])\n"
   ]
  },
  {
   "cell_type": "code",
   "execution_count": null,
   "metadata": {
    "collapsed": true
   },
   "outputs": [],
   "source": []
  }
 ],
 "metadata": {
  "kernelspec": {
   "display_name": "Python 3",
   "language": "python",
   "name": "python3"
  },
  "language_info": {
   "codemirror_mode": {
    "name": "ipython",
    "version": 3
   },
   "file_extension": ".py",
   "mimetype": "text/x-python",
   "name": "python",
   "nbconvert_exporter": "python",
   "pygments_lexer": "ipython3",
   "version": "3.5.2"
  }
 },
 "nbformat": 4,
 "nbformat_minor": 2
}
