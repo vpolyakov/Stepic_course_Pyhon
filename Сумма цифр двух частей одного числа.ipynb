{
 "cells": [
  {
   "cell_type": "code",
   "execution_count": 12,
   "metadata": {
    "collapsed": false
   },
   "outputs": [
    {
     "name": "stdout",
     "output_type": "stream",
     "text": [
      "120090\n",
      "Обычный\n"
     ]
    }
   ],
   "source": [
    "t = int(input())\n",
    "\n",
    "t1 = t % 10\n",
    "t2 = t % 100 // 10\n",
    "t3 = t % 1000 // 100\n",
    "t4 = t % 10000 // 1000\n",
    "t5 = t % 100000 // 10000\n",
    "t6 = t % 1000000 // 100000\n",
    "\n",
    "tr = t1 + t2 + t3\n",
    "tl = t4 + t5 + t6\n",
    "\n",
    "if tr == tl :\n",
    "    print('Счастливый')\n",
    "else :\n",
    "    print('Обычный')\n"
   ]
  },
  {
   "cell_type": "code",
   "execution_count": 15,
   "metadata": {
    "collapsed": false
   },
   "outputs": [
    {
     "name": "stdout",
     "output_type": "stream",
     "text": [
      "123542\n",
      "Обычный\n"
     ]
    }
   ],
   "source": [
    "# сокращенный форма кода\n",
    "\n",
    "t = int(input())\n",
    "\n",
    "if t % 10 + t % 100 // 10 + t % 1000 // 100 == t % 10000 // 1000 + t % 100000 // 10000 + t % 1000000 // 100000 :\n",
    "    print('Счастливый')\n",
    "else :\n",
    "    print('Обычный')\n"
   ]
  }
 ],
 "metadata": {
  "kernelspec": {
   "display_name": "Python [conda root]",
   "language": "python",
   "name": "conda-root-py"
  },
  "language_info": {
   "codemirror_mode": {
    "name": "ipython",
    "version": 3
   },
   "file_extension": ".py",
   "mimetype": "text/x-python",
   "name": "python",
   "nbconvert_exporter": "python",
   "pygments_lexer": "ipython3",
   "version": "3.5.2"
  }
 },
 "nbformat": 4,
 "nbformat_minor": 1
}
