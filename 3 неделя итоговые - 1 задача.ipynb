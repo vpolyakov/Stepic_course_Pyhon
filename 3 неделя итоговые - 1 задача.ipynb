{
 "cells": [
  {
   "cell_type": "code",
   "execution_count": 14,
   "metadata": {
    "collapsed": false
   },
   "outputs": [
    {
     "name": "stdout",
     "output_type": "stream",
     "text": [
      "3\n",
      "Зенит;3;Спартак;1\n",
      "['Зенит', '3', 'Спартак', '1']\n",
      "Спартак;1;ЦСКА;1\n",
      "['Спартак', '1', 'ЦСКА', '1']\n",
      "ЦСКА;0;Зенит;2\n",
      "['ЦСКА', '0', 'Зенит', '2']\n",
      "ЦСКА [2, 0, 1, 1, 1]\n",
      "Зенит [2, 2, 0, 0, 6]\n",
      "Спартак [2, 0, 1, 1, 1]\n"
     ]
    }
   ],
   "source": [
    "n = int(input())\n",
    "scores = {}\n",
    "for i in range(n):\n",
    "    line = input().split(';')\n",
    "    print(line)\n",
    "    if line[0] not in scores:\n",
    "        scores[line[0]] = [1, 0, 0, 0, 0]\n",
    "    elif line[0] in scores:\n",
    "        scores[line[0]][0] += 1\n",
    "        #print(scores[line[0]])\n",
    "\n",
    "    if line[2] not in scores:\n",
    "        scores[line[2]] = [1, 0, 0, 0, 0]\n",
    "    elif line[2] in scores:\n",
    "        scores[line[2]][0] += 1\n",
    "        #print(scores[line[2]])\n",
    "        \n",
    "    if int(line[1]) > int(line[3]):\n",
    "        scores[line[0]][1] += 1\n",
    "        scores[line[0]][4] += 3\n",
    "        scores[line[2]][3] += 1\n",
    "    elif int(line[1]) < int(line[3]):\n",
    "        scores[line[2]][1] += 1\n",
    "        scores[line[2]][4] += 3\n",
    "        scores[line[0]][3] += 1\n",
    "    elif int(line[1]) == int(line[3]):\n",
    "        scores[line[0]][2] += 1\n",
    "        scores[line[0]][4] += 1\n",
    "        scores[line[2]][2] += 1\n",
    "        scores[line[2]][4] += 1        \n",
    "\n",
    "for i in scores:\n",
    "    print(i+':'+str(scores[i][1]), scores[i][2], scores[i][3], scores[i][4])"
   ]
  },
  {
   "cell_type": "code",
   "execution_count": 6,
   "metadata": {
    "collapsed": false
   },
   "outputs": [
    {
     "name": "stdout",
     "output_type": "stream",
     "text": [
      "1\n",
      "Зенит;3;Спартак;1\n",
      "Спартак:1 0 0 1 0\n",
      "Зенит:1 1 0 0 3\n"
     ]
    }
   ],
   "source": [
    "n = int(input())\n",
    "scores = {}\n",
    "line = []\n",
    "for i in range(n):\n",
    "    line = input().split(';')\n",
    "    \n",
    "    if line[0] not in scores:\n",
    "        scores[line[0]] = [1, 0, 0, 0, 0]\n",
    "    elif line[0] in scores:\n",
    "        scores[line[0]][0] += 1\n",
    "\n",
    "    if line[2] not in scores:\n",
    "        scores[line[2]] = [1, 0, 0, 0, 0]\n",
    "    elif line[2] in scores:\n",
    "        scores[line[2]][0] += 1\n",
    "        \n",
    "    if int(line[1]) > int(line[3]):\n",
    "        scores[line[0]][1] += 1\n",
    "        scores[line[0]][4] += 3\n",
    "        scores[line[2]][3] += 1\n",
    "    elif int(line[1]) < int(line[3]):\n",
    "        scores[line[2]][1] += 1\n",
    "        scores[line[2]][4] += 3\n",
    "        scores[line[0]][3] += 1\n",
    "    elif int(line[1]) == int(line[3]):\n",
    "        scores[line[0]][2] += 1\n",
    "        scores[line[0]][4] += 1\n",
    "        scores[line[2]][2] += 1\n",
    "        scores[line[2]][4] += 1        \n",
    "\n",
    "for i in scores:\n",
    "    print(i+':'+str(scores[i][0]), scores[i][1], scores[i][2], scores[i][3], scores[i][4])"
   ]
  }
 ],
 "metadata": {
  "kernelspec": {
   "display_name": "Python [conda root]",
   "language": "python",
   "name": "conda-root-py"
  },
  "language_info": {
   "codemirror_mode": {
    "name": "ipython",
    "version": 3
   },
   "file_extension": ".py",
   "mimetype": "text/x-python",
   "name": "python",
   "nbconvert_exporter": "python",
   "pygments_lexer": "ipython3",
   "version": "3.5.2"
  }
 },
 "nbformat": 4,
 "nbformat_minor": 1
}
