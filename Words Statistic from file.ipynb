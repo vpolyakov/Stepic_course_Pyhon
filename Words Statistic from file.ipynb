{
 "cells": [
  {
   "cell_type": "code",
   "execution_count": 16,
   "metadata": {
    "collapsed": true
   },
   "outputs": [],
   "source": [
    "wordsline = 'abC aa a aa ac abc bcd a'"
   ]
  },
  {
   "cell_type": "code",
   "execution_count": 47,
   "metadata": {},
   "outputs": [
    {
     "data": {
      "text/plain": [
       "['abc', 'aa', 'a', 'aa', 'ac', 'abc', 'bcd', 'a']"
      ]
     },
     "execution_count": 47,
     "metadata": {},
     "output_type": "execute_result"
    }
   ],
   "source": [
    "words = wordsline.lower().split()\n",
    "words"
   ]
  },
  {
   "cell_type": "code",
   "execution_count": 48,
   "metadata": {},
   "outputs": [
    {
     "name": "stdout",
     "output_type": "stream",
     "text": [
      "['tputdb', 'dd', 'upzadzcyx', 'upzadzcyx', 'cuxuxyt', 'dzaxu', 'dd', 'ua', 'zuxy', 'uc', 'tyc', 'y', 'attyydd', 'dtdpadxy', 'dzaxu', 'pbuutypuu', 'tputdb', 'autxazttb', 'uzutbua', 'ua', 'tputdb', 'zapdbyd', 'uzapytuy', 'ua', 'abduxpdtb', 'p', 'b', 'yxubbb', 't', 'bxdyttu', 'z', 'dypu', 'aattpxzyp', 'xzuytxd', 'b', 'zuxy', 'xctd', 'dcxuydtx', 'p', 'pxcbxuty', 't', 'u', 'zbzzccuyy', 'ybc', 'b', 'tputdb', 'xdyxyptt', 'uu', 'aattpxzyp', 'xuapdbaxx', 'uxc', 'yybt', 'yybt', 'dp', 'yybt', 'pcyuxzu', 'pcyuxzu', 'x', 'cbctb', 'zbxzxd', 'auz', 'xpc', 'cya', 'z', 'pcyuxzu', 'p', 'cacat', 'pcyuxzu', 'u', 'atdtpxddz', 'bp', 'u', 'yuyzxpyb', 'tbaxuac', 'pdu', 'bcyypdbzt', 'zby', 'c', 'dp', 'xzubz', 'zttctu', 'xzaabz', 'zbxzxd', 'bp', 'u', 'cy', 'xzyaxubcu', 'txtbctyau', 'yxtzutd', 'pxcypc', 'tby', 'tby', 'tby', 'tby', 'pxcypc', 'zpzpzc', 'pxcypc', 'aupbu', 'tucdct', 'dpzzu', 'azybyybcd', 'tucdct', 'p', 'du', 'pcacuypd', 'ptt', 'dyddcubac', 'aybup', 'acdzbzyay', 'aabbytyyd', 'atpta', 'cdxaczyt', 'azybyybcd', 'pzazzxddy', 'aa', 'cxpyztbbt', 'pzazzxddy', 'zyupzy', 'a', 'tud', 'cday', 'bxztptx', 'ypttzpyu', 'pzazzxddy', 'dz', 'cday', 'dtaap', 'a', 'a', 'pzazzxddy', 'zdzyupubb', 'a', 'a', 'bypp', 'pzazzxddy', 'xypu', 'zyupzy', 'ptxppu', 'aucaay', 'uauppza', 'uauppza', 'ubdxc', 'ayazxyzpa', 'uauppza', 'ptxppu', 'uauppza', 'tzayadbad', 'z', 'ubdxc', 'yxctd', 'bxzt', 'z', 'tyybdpaz', 'uauppza', 'ubz', 'z', 'pz', 'btzxzdy', 'u', 'z', 'z', 'acytdt', 'btzxzdy', 'dxbdpu', 'tdudxxd', 'bbxabd', 'dayzabbz', 'dayzabbz', 'pbcxcucp', 'dz', 'tct', 'ubc', 'txcd', 'audcxpy', 'zbt', 'zppcdc', 'cbpc', 'zztxp', 'a', 'xxuduca', 'ubc', 'uatbcd', 'tctzx', 'xxuduca', 'dayzabbz', 'u', 'dz', 'ayaxpx', 'ct', 'cbpc', 'b', 'dy', 'yapcpbxzp', 'xcdty', 'bzx', 'bzx', 'bzx', 'u', 'cttpb', 'cdbbttxt', 'bbyc', 'yp', 'xa', 'uaca', 'xbatc', 'yt', 'ttupbuy', 'xa', 'xpx', 'zbcubbuxz', 'aza', 'pzp', 'btczabt', 'bd', 'zpb', 'ty', 'cdcxtx', 'dbpy', 'bzx', 'z', 'ay', 'ay', 'xbtx', 'cdcxtx', 'yapdyu', 'xpx', 'pzp', 'pztztdu']\n"
     ]
    }
   ],
   "source": [
    "words = []\n",
    "with open('dataset_3363_3.txt', 'r') as text:\n",
    "    for line in text:\n",
    "        words += line.strip().lower().split()\n",
    "print(words)"
   ]
  },
  {
   "cell_type": "code",
   "execution_count": 50,
   "metadata": {},
   "outputs": [
    {
     "name": "stdout",
     "output_type": "stream",
     "text": [
      "['tputdb', 'dd', 'upzadzcyx', 'upzadzcyx', 'cuxuxyt', 'dzaxu', 'dd', 'ua', 'zuxy', 'uc', 'tyc', 'y', 'attyydd', 'dtdpadxy', 'dzaxu', 'pbuutypuu', 'tputdb', 'autxazttb', 'uzutbua', 'ua', 'tputdb', 'zapdbyd', 'uzapytuy', 'ua', 'abduxpdtb', 'p', 'b', 'yxubbb', 't', 'bxdyttu', 'z', 'dypu', 'aattpxzyp', 'xzuytxd', 'b', 'zuxy', 'xctd', 'dcxuydtx', 'p', 'pxcbxuty', 't', 'u', 'zbzzccuyy', 'ybc', 'b', 'tputdb', 'xdyxyptt', 'uu', 'aattpxzyp', 'xuapdbaxx', 'uxc', 'yybt', 'yybt', 'dp', 'yybt', 'pcyuxzu', 'pcyuxzu', 'x', 'cbctb', 'zbxzxd', 'auz', 'xpc', 'cya', 'z', 'pcyuxzu', 'p', 'cacat', 'pcyuxzu', 'u', 'atdtpxddz', 'bp', 'u', 'yuyzxpyb', 'tbaxuac', 'pdu', 'bcyypdbzt', 'zby', 'c', 'dp', 'xzubz', 'zttctu', 'xzaabz', 'zbxzxd', 'bp', 'u', 'cy', 'xzyaxubcu', 'txtbctyau', 'yxtzutd', 'pxcypc', 'tby', 'tby', 'tby', 'tby', 'pxcypc', 'zpzpzc', 'pxcypc', 'aupbu', 'tucdct', 'dpzzu', 'azybyybcd', 'tucdct', 'p', 'du', 'pcacuypd', 'ptt', 'dyddcubac', 'aybup', 'acdzbzyay', 'aabbytyyd', 'atpta', 'cdxaczyt', 'azybyybcd', 'pzazzxddy', 'aa', 'cxpyztbbt', 'pzazzxddy', 'zyupzy', 'a', 'tud', 'cday', 'bxztptx', 'ypttzpyu', 'pzazzxddy', 'dz', 'cday', 'dtaap', 'a', 'a', 'pzazzxddy', 'zdzyupubb', 'a', 'a', 'bypp', 'pzazzxddy', 'xypu', 'zyupzy', 'ptxppu', 'aucaay', 'uauppza', 'uauppza', 'ubdxc', 'ayazxyzpa', 'uauppza', 'ptxppu', 'uauppza', 'tzayadbad', 'z', 'ubdxc', 'yxctd', 'bxzt', 'z', 'tyybdpaz', 'uauppza', 'ubz', 'z', 'pz', 'btzxzdy', 'u', 'z', 'z', 'acytdt', 'btzxzdy', 'dxbdpu', 'tdudxxd', 'bbxabd', 'dayzabbz', 'dayzabbz', 'pbcxcucp', 'dz', 'tct', 'ubc', 'txcd', 'audcxpy', 'zbt', 'zppcdc', 'cbpc', 'zztxp', 'a', 'xxuduca', 'ubc', 'uatbcd', 'tctzx', 'xxuduca', 'dayzabbz', 'u', 'dz', 'ayaxpx', 'ct', 'cbpc', 'b', 'dy', 'yapcpbxzp', 'xcdty', 'bzx', 'bzx', 'bzx', 'u', 'cttpb', 'cdbbttxt', 'bbyc', 'yp', 'xa', 'uaca', 'xbatc', 'yt', 'ttupbuy', 'xa', 'xpx', 'zbcubbuxz', 'aza', 'pzp', 'btczabt', 'bd', 'zpb', 'ty', 'cdcxtx', 'dbpy', 'bzx', 'z', 'ay', 'ay', 'xbtx', 'cdcxtx', 'yapdyu', 'xpx', 'pzp', 'pztztdu']\n",
      "{'ayazxyzpa': 1, 'bzx': 4, 'cttpb': 1, 'aza': 1, 'xzyaxubcu': 1, 'bxzt': 1, 'zbt': 1, 'uaca': 1, 'dtaap': 1, 'bxztptx': 1, 'xdyxyptt': 1, 'zuxy': 2, 'dy': 1, 'aupbu': 1, 'zbzzccuyy': 1, 'yybt': 3, 'yp': 1, 'bxdyttu': 1, 'dzaxu': 2, 'zyupzy': 2, 'cdxaczyt': 1, 'ubz': 1, 'azybyybcd': 2, 'cy': 1, 'zdzyupubb': 1, 'tyc': 1, 'ct': 1, 'dayzabbz': 3, 'pxcbxuty': 1, 'tud': 1, 'xxuduca': 2, 'ttupbuy': 1, 'yxtzutd': 1, 'xuapdbaxx': 1, 'xa': 2, 'cya': 1, 'ay': 2, 'dpzzu': 1, 'xctd': 1, 'zztxp': 1, 'ptxppu': 2, 'bbxabd': 1, 'uauppza': 5, 'dz': 3, 'aabbytyyd': 1, 'pztztdu': 1, 'du': 1, 'zby': 1, 'acdzbzyay': 1, 'xbtx': 1, 'abduxpdtb': 1, 'xzaabz': 1, 'p': 4, 'tdudxxd': 1, 'bp': 2, 'ty': 1, 'aybup': 1, 'cday': 2, 'cdbbttxt': 1, 'zppcdc': 1, 'dp': 2, 'yxctd': 1, 'yuyzxpyb': 1, 'ybc': 1, 'uzapytuy': 1, 'xpx': 2, 'bcyypdbzt': 1, 'z': 8, 'uxc': 1, 'ubdxc': 2, 'tct': 1, 'pbuutypuu': 1, 'yapdyu': 1, 'dtdpadxy': 1, 'dcxuydtx': 1, 'bbyc': 1, 'xzubz': 1, 'xypu': 1, 'pdu': 1, 'u': 7, 'xbatc': 1, 'autxazttb': 1, 'dypu': 1, 'yapcpbxzp': 1, 'btczabt': 1, 'ua': 3, 'xpc': 1, 'uu': 1, 'xcdty': 1, 'pcacuypd': 1, 'dyddcubac': 1, 'ubc': 2, 'xzuytxd': 1, 'b': 4, 'zttctu': 1, 't': 2, 'pxcypc': 3, 'cdcxtx': 2, 'txcd': 1, 'zbcubbuxz': 1, 'acytdt': 1, 'pzp': 2, 'yxubbb': 1, 'attyydd': 1, 'audcxpy': 1, 'atdtpxddz': 1, 'tby': 4, 'aattpxzyp': 2, 'bd': 1, 'zapdbyd': 1, 'bypp': 1, 'cbctb': 1, 'pbcxcucp': 1, 'atpta': 1, 'dxbdpu': 1, 'tctzx': 1, 'tzayadbad': 1, 'txtbctyau': 1, 'upzadzcyx': 2, 'pz': 1, 'x': 1, 'c': 1, 'zpzpzc': 1, 'yt': 1, 'pcyuxzu': 4, 'uatbcd': 1, 'cacat': 1, 'tputdb': 4, 'pzazzxddy': 5, 'ayaxpx': 1, 'ypttzpyu': 1, 'y': 1, 'aa': 1, 'cuxuxyt': 1, 'ptt': 1, 'tbaxuac': 1, 'tyybdpaz': 1, 'uc': 1, 'cbpc': 2, 'zpb': 1, 'tucdct': 2, 'dd': 2, 'dbpy': 1, 'uzutbua': 1, 'btzxzdy': 2, 'a': 6, 'cxpyztbbt': 1, 'zbxzxd': 2, 'aucaay': 1, 'auz': 1}\n",
      "z 8\n",
      "['z']\n",
      "z 8\n"
     ]
    }
   ],
   "source": [
    "print(words)\n",
    "stat = {} # подсчет количиства вхождений каждого слова\n",
    "for i in words:\n",
    "    if i not in stat:\n",
    "        stat[i] = 1\n",
    "    elif i in stat:\n",
    "        stat[i] += 1\n",
    "print(stat)\n",
    "max1 = words[0] # поиск слова с максимальным повторением\n",
    "for i in stat:\n",
    "    if stat[i] >= stat[max1] :\n",
    "        max1 = i\n",
    "print(max1, stat[max1])\n",
    "leaders = [] # составление списка самых частых слов\n",
    "for i in stat:\n",
    "    if stat[i] == stat[max1]:\n",
    "        leaders += [i]\n",
    "print(leaders)\n",
    "if len(leaders) > 1 :\n",
    "    leaders.sort()\n",
    "    print('отсортированный список', leaders)\n",
    "\n",
    "for i in leaders: # вывод на печать списка с количеством\n",
    "    print(i, stat[max1])"
   ]
  },
  {
   "cell_type": "code",
   "execution_count": null,
   "metadata": {
    "collapsed": true
   },
   "outputs": [],
   "source": []
  }
 ],
 "metadata": {
  "kernelspec": {
   "display_name": "Python 3",
   "language": "python",
   "name": "python3"
  },
  "language_info": {
   "codemirror_mode": {
    "name": "ipython",
    "version": 3
   },
   "file_extension": ".py",
   "mimetype": "text/x-python",
   "name": "python",
   "nbconvert_exporter": "python",
   "pygments_lexer": "ipython3",
   "version": "3.5.2"
  }
 },
 "nbformat": 4,
 "nbformat_minor": 2
}
