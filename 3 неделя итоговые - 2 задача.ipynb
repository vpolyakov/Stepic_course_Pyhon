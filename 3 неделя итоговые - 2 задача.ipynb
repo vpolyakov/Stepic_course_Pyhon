{
 "cells": [
  {
   "cell_type": "code",
   "execution_count": 1,
   "metadata": {
    "collapsed": false
   },
   "outputs": [
    {
     "name": "stdout",
     "output_type": "stream",
     "text": [
      "abcd\n",
      "*d%#\n",
      "abacabadaba\n",
      "#*%*d*%\n"
     ]
    }
   ],
   "source": [
    "alf = input()\n",
    "key = input()\n",
    "msg = input()\n",
    "sms = input()"
   ]
  },
  {
   "cell_type": "code",
   "execution_count": 13,
   "metadata": {
    "collapsed": false
   },
   "outputs": [
    {
     "name": "stdout",
     "output_type": "stream",
     "text": [
      "*d*%*d*#*d*\n",
      "dacabac\n"
     ]
    }
   ],
   "source": [
    "alfa = {alf[i] : key[i] for i in range(len(alf))}\n",
    "#print(alfa)\n",
    "\n",
    "keys = {key[i] : alf[i] for i in range(len(alf))}\n",
    "\n",
    "encalfa = ''\n",
    "for i in msg:\n",
    "    encalfa += alfa[i]\n",
    "print(encalfa)\n",
    "\n",
    "decalfa = ''\n",
    "for i in sms:\n",
    "    decalfa += keys[i]\n",
    "print(decalfa)\n"
   ]
  },
  {
   "cell_type": "code",
   "execution_count": 14,
   "metadata": {
    "collapsed": false
   },
   "outputs": [
    {
     "name": "stdout",
     "output_type": "stream",
     "text": [
      "abcd\n",
      "*d%#\n",
      "abacabadaba\n",
      "#*%*d*%\n",
      "*d*%*d*#*d*\n",
      "dacabac\n"
     ]
    }
   ],
   "source": [
    "alf = input()\n",
    "key = input()\n",
    "msg = input()\n",
    "sms = input()\n",
    "\n",
    "alfa = {alf[i] : key[i] for i in range(len(alf))}\n",
    "\n",
    "keys = {key[i] : alf[i] for i in range(len(alf))}\n",
    "\n",
    "encalfa = ''\n",
    "for i in msg:\n",
    "    encalfa += alfa[i]\n",
    "print(encalfa)\n",
    "\n",
    "decalfa = ''\n",
    "for i in sms:\n",
    "    decalfa += keys[i]\n",
    "print(decalfa)"
   ]
  },
  {
   "cell_type": "code",
   "execution_count": null,
   "metadata": {
    "collapsed": true
   },
   "outputs": [],
   "source": []
  }
 ],
 "metadata": {
  "anaconda-cloud": {},
  "kernelspec": {
   "display_name": "Python [conda root]",
   "language": "python",
   "name": "conda-root-py"
  },
  "language_info": {
   "codemirror_mode": {
    "name": "ipython",
    "version": 3
   },
   "file_extension": ".py",
   "mimetype": "text/x-python",
   "name": "python",
   "nbconvert_exporter": "python",
   "pygments_lexer": "ipython3",
   "version": "3.5.2"
  }
 },
 "nbformat": 4,
 "nbformat_minor": 1
}
