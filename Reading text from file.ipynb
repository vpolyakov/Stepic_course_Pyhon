{
 "cells": [
  {
   "cell_type": "code",
   "execution_count": 19,
   "metadata": {},
   "outputs": [
    {
     "data": {
      "text/plain": [
       "'Need a book recommendation for a young, out-of-work, or fledgling wild-card on your Christmas list? Or some words of wisdom to pump up your own bookshelf?\\n'"
      ]
     },
     "execution_count": 19,
     "metadata": {},
     "output_type": "execute_result"
    }
   ],
   "source": [
    "text = open('a2.txt', 'r')\n",
    "#text.read()\n",
    "#print(text.read())\n",
    "text.readline()\n",
    "#print(text.readline())\n",
    "#print(text.readlines())\n",
    "#text.close()"
   ]
  },
  {
   "cell_type": "code",
   "execution_count": 20,
   "metadata": {},
   "outputs": [
    {
     "data": {
      "text/plain": [
       "'We got you.\\n'"
      ]
     },
     "execution_count": 20,
     "metadata": {},
     "output_type": "execute_result"
    }
   ],
   "source": [
    "text.readline()"
   ]
  },
  {
   "cell_type": "code",
   "execution_count": 21,
   "metadata": {},
   "outputs": [
    {
     "data": {
      "text/plain": [
       "'MONEY compiled a reading list of the books several CEOs, COOs and company founders say changed the trajectory of their lives. Some are tried and true career inspirations like The Art of War, while others are literary classics or feats of investigative journalism such as A Wrinkle in Time or The New Jim Crow. All helped launch some of the most inspiring careers of our time.'"
      ]
     },
     "execution_count": 21,
     "metadata": {},
     "output_type": "execute_result"
    }
   ],
   "source": [
    "text.readline()"
   ]
  },
  {
   "cell_type": "code",
   "execution_count": 22,
   "metadata": {
    "collapsed": true
   },
   "outputs": [],
   "source": [
    "text.close()"
   ]
  },
  {
   "cell_type": "code",
   "execution_count": 25,
   "metadata": {},
   "outputs": [
    {
     "data": {
      "text/plain": [
       "['Need a book recommendation for a young, out-of-work, or fledgling wild-card on your Christmas list? Or some words of wisdom to pump up your own bookshelf?\\n',\n",
       " 'We got you.\\n',\n",
       " 'MONEY compiled a reading list of the books several CEOs, COOs and company founders say changed the trajectory of their lives. Some are tried and true career inspirations like The Art of War, while others are literary classics or feats of investigative journalism such as A Wrinkle in Time or The New Jim Crow. All helped launch some of the most inspiring careers of our time.']"
      ]
     },
     "execution_count": 25,
     "metadata": {},
     "output_type": "execute_result"
    }
   ],
   "source": [
    "text = open('a2.txt', 'r')\n",
    "#text.read()\n",
    "#print(text.read())\n",
    "text.readlines()\n",
    "#print(text.readline())\n",
    "#print(text.readlines())\n",
    "#text.close()"
   ]
  },
  {
   "cell_type": "code",
   "execution_count": 26,
   "metadata": {},
   "outputs": [
    {
     "data": {
      "text/plain": [
       "'Need a book recommendation for a young, out-of-work, or fledgling wild-card on your Christmas list? Or some words of wisdom to pump up your own bookshelf?\\nWe got you.\\nMONEY compiled a reading list of the books several CEOs, COOs and company founders say changed the trajectory of their lives. Some are tried and true career inspirations like The Art of War, while others are literary classics or feats of investigative journalism such as A Wrinkle in Time or The New Jim Crow. All helped launch some of the most inspiring careers of our time.'"
      ]
     },
     "execution_count": 26,
     "metadata": {},
     "output_type": "execute_result"
    }
   ],
   "source": [
    "text = open('a2.txt', 'r')\n",
    "text.read()"
   ]
  },
  {
   "cell_type": "code",
   "execution_count": 35,
   "metadata": {},
   "outputs": [
    {
     "name": "stdout",
     "output_type": "stream",
     "text": [
      "['need', 'a', 'book', 'recommendation', 'for', 'a', 'young,', 'out-of-work,', 'or', 'fledgling', 'wild-card', 'on', 'your', 'christmas', 'list?', 'or', 'some', 'words', 'of', 'wisdom', 'to', 'pump', 'up', 'your', 'own', 'bookshelf?', 'we', 'got', 'you.', 'money', 'compiled', 'a', 'reading', 'list', 'of', 'the', 'books', 'several', 'ceos,', 'coos', 'and', 'company', 'founders', 'say', 'changed', 'the', 'trajectory', 'of', 'their', 'lives.', 'some', 'are', 'tried', 'and', 'true', 'career', 'inspirations', 'like', 'the', 'art', 'of', 'war,', 'while', 'others', 'are', 'literary', 'classics', 'or', 'feats', 'of', 'investigative', 'journalism', 'such', 'as', 'a', 'wrinkle', 'in', 'time', 'or', 'the', 'new', 'jim', 'crow.', 'all', 'helped', 'launch', 'some', 'of', 'the', 'most', 'inspiring', 'careers', 'of', 'our', 'time.']\n"
     ]
    }
   ],
   "source": [
    "words = []\n",
    "with open('a2.txt', 'r') as text:\n",
    "    for line in text:\n",
    "        words += line.strip().lower().split()\n",
    "print(words)"
   ]
  },
  {
   "cell_type": "code",
   "execution_count": 36,
   "metadata": {},
   "outputs": [
    {
     "name": "stdout",
     "output_type": "stream",
     "text": [
      "['need', 'a', 'book', 'recommendation', 'for', 'a', 'young,', 'out-of-work,', 'or', 'fledgling', 'wild-card', 'on', 'your', 'christmas', 'list?', 'or', 'some', 'words', 'of', 'wisdom', 'to', 'pump', 'up', 'your', 'own', 'bookshelf?', 'we', 'got', 'you.', 'money', 'compiled', 'a', 'reading', 'list', 'of', 'the', 'books', 'several', 'ceos,', 'coos', 'and', 'company', 'founders', 'say', 'changed', 'the', 'trajectory', 'of', 'their', 'lives.', 'some', 'are', 'tried', 'and', 'true', 'career', 'inspirations', 'like', 'the', 'art', 'of', 'war,', 'while', 'others', 'are', 'literary', 'classics', 'or', 'feats', 'of', 'investigative', 'journalism', 'such', 'as', 'a', 'wrinkle', 'in', 'time', 'or', 'the', 'new', 'jim', 'crow.', 'all', 'helped', 'launch', 'some', 'of', 'the', 'most', 'inspiring', 'careers', 'of', 'our', 'time.']\n"
     ]
    }
   ],
   "source": [
    "with open('a2.txt', 'r') as text:\n",
    "    line = text.readline()\n",
    "    words = line.strip().lower().split()\n",
    "    while line:\n",
    "        line = text.readline()\n",
    "        words += line.strip().lower().split()\n",
    "print(words)"
   ]
  },
  {
   "cell_type": "code",
   "execution_count": 48,
   "metadata": {},
   "outputs": [
    {
     "name": "stdout",
     "output_type": "stream",
     "text": [
      "['Need a book recommendation for a young, out-of-work, or fledgling wild-card on your Christmas list? Or some words of wisdom to pump up your own bookshelf?', 'We got you.', 'MONEY compiled a reading list of the books several CEOs, COOs and company founders say changed the trajectory of their lives. Some are tried and true career inspirations like The Art of War, while others are literary classics or feats of investigative journalism such as A Wrinkle in Time or The New Jim Crow. All helped launch some of the most inspiring careers of our time.']\n"
     ]
    }
   ],
   "source": [
    "with open('a2.txt', 'r') as text:\n",
    "    array = text.readlines()\n",
    "for i in range(len(array)):\n",
    "    array[i] = array[i].strip()\n",
    "print(array)"
   ]
  },
  {
   "cell_type": "code",
   "execution_count": 46,
   "metadata": {},
   "outputs": [
    {
     "name": "stdout",
     "output_type": "stream",
     "text": [
      "['Need a book recommendation for a young, out-of-work, or fledgling wild-card on your Christmas list? Or some words of wisdom to pump up your own bookshelf?', 'We got you.', 'MONEY compiled a reading list of the books several CEOs, COOs and company founders say changed the trajectory of their lives. Some are tried and true career inspirations like The Art of War, while others are literary classics or feats of investigative journalism such as A Wrinkle in Time or The New Jim Crow. All helped launch some of the most inspiring careers of our time.']\n"
     ]
    }
   ],
   "source": [
    "with open('a2.txt', 'r') as text:\n",
    "    lines1 = [line.strip() for line in text.readlines()]\n",
    "print(lines1)"
   ]
  },
  {
   "cell_type": "code",
   "execution_count": 47,
   "metadata": {},
   "outputs": [
    {
     "name": "stdout",
     "output_type": "stream",
     "text": [
      "['Need a book recommendation for a young, out-of-work, or fledgling wild-card on your Christmas list? Or some words of wisdom to pump up your own bookshelf?', 'We got you.', 'MONEY compiled a reading list of the books several CEOs, COOs and company founders say changed the trajectory of their lives. Some are tried and true career inspirations like The Art of War, while others are literary classics or feats of investigative journalism such as A Wrinkle in Time or The New Jim Crow. All helped launch some of the most inspiring careers of our time.']\n"
     ]
    }
   ],
   "source": [
    "with open('a2.txt', 'r') as text:\n",
    "    lines = [line.strip() for line in text]\n",
    "print(lines)"
   ]
  },
  {
   "cell_type": "code",
   "execution_count": 49,
   "metadata": {},
   "outputs": [
    {
     "name": "stdout",
     "output_type": "stream",
     "text": [
      "[['need', 'a', 'book', 'recommendation', 'for', 'a', 'young,', 'out-of-work,', 'or', 'fledgling', 'wild-card', 'on', 'your', 'christmas', 'list?', 'or', 'some', 'words', 'of', 'wisdom', 'to', 'pump', 'up', 'your', 'own', 'bookshelf?'], ['we', 'got', 'you.'], ['money', 'compiled', 'a', 'reading', 'list', 'of', 'the', 'books', 'several', 'ceos,', 'coos', 'and', 'company', 'founders', 'say', 'changed', 'the', 'trajectory', 'of', 'their', 'lives.', 'some', 'are', 'tried', 'and', 'true', 'career', 'inspirations', 'like', 'the', 'art', 'of', 'war,', 'while', 'others', 'are', 'literary', 'classics', 'or', 'feats', 'of', 'investigative', 'journalism', 'such', 'as', 'a', 'wrinkle', 'in', 'time', 'or', 'the', 'new', 'jim', 'crow.', 'all', 'helped', 'launch', 'some', 'of', 'the', 'most', 'inspiring', 'careers', 'of', 'our', 'time.']]\n"
     ]
    }
   ],
   "source": [
    "with open('a2.txt', 'r') as text:\n",
    "    words2 = [line.strip().lower().split() for line in text]\n",
    "print(words2)"
   ]
  },
  {
   "cell_type": "code",
   "execution_count": null,
   "metadata": {
    "collapsed": true
   },
   "outputs": [],
   "source": []
  }
 ],
 "metadata": {
  "kernelspec": {
   "display_name": "Python 3",
   "language": "python",
   "name": "python3"
  },
  "language_info": {
   "codemirror_mode": {
    "name": "ipython",
    "version": 3
   },
   "file_extension": ".py",
   "mimetype": "text/x-python",
   "name": "python",
   "nbconvert_exporter": "python",
   "pygments_lexer": "ipython3",
   "version": "3.5.2"
  }
 },
 "nbformat": 4,
 "nbformat_minor": 2
}
